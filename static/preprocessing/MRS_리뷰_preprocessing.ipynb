{
  "nbformat": 4,
  "nbformat_minor": 0,
  "metadata": {
    "colab": {
      "provenance": []
    },
    "kernelspec": {
      "name": "python3",
      "display_name": "Python 3"
    },
    "language_info": {
      "name": "python"
    }
  },
  "cells": [
    {
      "cell_type": "code",
      "source": [],
      "metadata": {
        "id": "NUtwbgSujuzS"
      },
      "execution_count": null,
      "outputs": []
    },
    {
      "cell_type": "markdown",
      "source": [
        "# drive mount"
      ],
      "metadata": {
        "id": "SeIw7zf3l03t"
      }
    },
    {
      "cell_type": "code",
      "execution_count": 1,
      "metadata": {
        "colab": {
          "base_uri": "https://localhost:8080/"
        },
        "id": "TidQ4Xy2UnI9",
        "outputId": "9c856de1-c1c5-4423-cda0-a03082cf595a"
      },
      "outputs": [
        {
          "output_type": "stream",
          "name": "stdout",
          "text": [
            "Drive already mounted at /content/drive; to attempt to forcibly remount, call drive.mount(\"/content/drive\", force_remount=True).\n"
          ]
        }
      ],
      "source": [
        "from google.colab import drive\n",
        "drive.mount('/content/drive')"
      ]
    },
    {
      "cell_type": "markdown",
      "source": [
        "# Import"
      ],
      "metadata": {
        "id": "aSppsPjll3k6"
      }
    },
    {
      "cell_type": "code",
      "source": [
        "import pandas as pd\n",
        "import numpy as np \n",
        "\n",
        "\n",
        "import seaborn as sns\n",
        "import matplotlib.pyplot as plt\n"
      ],
      "metadata": {
        "id": "SYcNocRWl5wf"
      },
      "execution_count": 2,
      "outputs": []
    },
    {
      "cell_type": "markdown",
      "source": [
        "# CFG"
      ],
      "metadata": {
        "id": "y9pBZ6WIl6mN"
      }
    },
    {
      "cell_type": "code",
      "source": [
        "class CFG :\n",
        "    SEED = 42\n",
        "    PATH = \"/content/drive/MyDrive/Dacon/FIANL_MOVIE_RECOM/\""
      ],
      "metadata": {
        "id": "d8nFTMOcU1s5"
      },
      "execution_count": 3,
      "outputs": []
    },
    {
      "cell_type": "markdown",
      "source": [
        "# Load data"
      ],
      "metadata": {
        "id": "mBBB4WKmlzmw"
      }
    },
    {
      "cell_type": "code",
      "source": [
        "with open(f\"{CFG.PATH}DATA/movies_moviereviewdummy_202301130957.csv\", 'r',encoding='utf-8') as f:\n",
        "    data = pd.read_csv(f)\n",
        "data.head(10)"
      ],
      "metadata": {
        "colab": {
          "base_uri": "https://localhost:8080/",
          "height": 580
        },
        "id": "82ytsKN5rqCA",
        "outputId": "5c92d500-2809-481b-85e6-d3605f990680"
      },
      "execution_count": 4,
      "outputs": [
        {
          "output_type": "execute_result",
          "data": {
            "text/plain": [
              "   no  grade                                             review  \\\n",
              "0   1    1.0  와 정말 무서운집 수준의 공포영화가 한국에 다시 나왔네요. 꼭 보러 가세요.착석하신...   \n",
              "1   2   10.0     내용 구성이나 연출, cg는 저예산 영화 정도의 수준이었지만 정은지가 연기를 잘한다   \n",
              "2   3    2.0  상엽이 형은 어쩌다가 어릴때 죽었는지 다리 피흘리는 여고생 연관있을줄 알았는데 연관...   \n",
              "3   4   10.0                                       정은지 연기 소름...   \n",
              "4   5    6.0  일단 정은지는 완전 합격점. 최윤영도 좋았다. 여배우 둘 빼면 에휴...게다가 초반...   \n",
              "5   6   10.0                     정은지는 노래도 월클이고 연기까지 월클인 것 같다. !   \n",
              "6   7   10.0                  정은지 스크린 데뷔 넘 좋았음 ㅠㅠ 표정 꿈에 나올듯 개무섭   \n",
              "7   8   10.0  킬링타임용 공포영화로는 괜찮음 단점도 많지만 볼만한 부분도 있음 여자 배우들 연기는...   \n",
              "8   9   10.0  아는형님에서 정은지 눈빛연기보고 이건 봐야겠다 했는데 공포연기 ㅎㄷㄷ 눈빛 진짜 공...   \n",
              "9  10   10.0  정은지 연기 물올랐다 ㄷㄷㄷ 보는내내 숨막혀 죽는줄 원작웹툰도 명작이었는데 영화도 ...   \n",
              "\n",
              "                c_date  movie_id  \n",
              "0  2019-05-29 13:30:00    177371  \n",
              "1  2019-05-29 10:58:00    177371  \n",
              "2  2019-05-29 20:15:00    177371  \n",
              "3  2019-05-29 12:21:00    177371  \n",
              "4  2019-05-29 11:34:00    177371  \n",
              "5  2019-05-29 11:37:00    177371  \n",
              "6  2019-05-29 11:27:00    177371  \n",
              "7  2019-05-29 11:29:00    177371  \n",
              "8  2019-05-29 09:35:00    177371  \n",
              "9  2019-05-29 12:11:00    177371  "
            ],
            "text/html": [
              "\n",
              "  <div id=\"df-a59f46ae-f16d-4f3d-ae7d-f7105f10d0fa\">\n",
              "    <div class=\"colab-df-container\">\n",
              "      <div>\n",
              "<style scoped>\n",
              "    .dataframe tbody tr th:only-of-type {\n",
              "        vertical-align: middle;\n",
              "    }\n",
              "\n",
              "    .dataframe tbody tr th {\n",
              "        vertical-align: top;\n",
              "    }\n",
              "\n",
              "    .dataframe thead th {\n",
              "        text-align: right;\n",
              "    }\n",
              "</style>\n",
              "<table border=\"1\" class=\"dataframe\">\n",
              "  <thead>\n",
              "    <tr style=\"text-align: right;\">\n",
              "      <th></th>\n",
              "      <th>no</th>\n",
              "      <th>grade</th>\n",
              "      <th>review</th>\n",
              "      <th>c_date</th>\n",
              "      <th>movie_id</th>\n",
              "    </tr>\n",
              "  </thead>\n",
              "  <tbody>\n",
              "    <tr>\n",
              "      <th>0</th>\n",
              "      <td>1</td>\n",
              "      <td>1.0</td>\n",
              "      <td>와 정말 무서운집 수준의 공포영화가 한국에 다시 나왔네요. 꼭 보러 가세요.착석하신...</td>\n",
              "      <td>2019-05-29 13:30:00</td>\n",
              "      <td>177371</td>\n",
              "    </tr>\n",
              "    <tr>\n",
              "      <th>1</th>\n",
              "      <td>2</td>\n",
              "      <td>10.0</td>\n",
              "      <td>내용 구성이나 연출, cg는 저예산 영화 정도의 수준이었지만 정은지가 연기를 잘한다</td>\n",
              "      <td>2019-05-29 10:58:00</td>\n",
              "      <td>177371</td>\n",
              "    </tr>\n",
              "    <tr>\n",
              "      <th>2</th>\n",
              "      <td>3</td>\n",
              "      <td>2.0</td>\n",
              "      <td>상엽이 형은 어쩌다가 어릴때 죽었는지 다리 피흘리는 여고생 연관있을줄 알았는데 연관...</td>\n",
              "      <td>2019-05-29 20:15:00</td>\n",
              "      <td>177371</td>\n",
              "    </tr>\n",
              "    <tr>\n",
              "      <th>3</th>\n",
              "      <td>4</td>\n",
              "      <td>10.0</td>\n",
              "      <td>정은지 연기 소름...</td>\n",
              "      <td>2019-05-29 12:21:00</td>\n",
              "      <td>177371</td>\n",
              "    </tr>\n",
              "    <tr>\n",
              "      <th>4</th>\n",
              "      <td>5</td>\n",
              "      <td>6.0</td>\n",
              "      <td>일단 정은지는 완전 합격점. 최윤영도 좋았다. 여배우 둘 빼면 에휴...게다가 초반...</td>\n",
              "      <td>2019-05-29 11:34:00</td>\n",
              "      <td>177371</td>\n",
              "    </tr>\n",
              "    <tr>\n",
              "      <th>5</th>\n",
              "      <td>6</td>\n",
              "      <td>10.0</td>\n",
              "      <td>정은지는 노래도 월클이고 연기까지 월클인 것 같다. !</td>\n",
              "      <td>2019-05-29 11:37:00</td>\n",
              "      <td>177371</td>\n",
              "    </tr>\n",
              "    <tr>\n",
              "      <th>6</th>\n",
              "      <td>7</td>\n",
              "      <td>10.0</td>\n",
              "      <td>정은지 스크린 데뷔 넘 좋았음 ㅠㅠ 표정 꿈에 나올듯 개무섭</td>\n",
              "      <td>2019-05-29 11:27:00</td>\n",
              "      <td>177371</td>\n",
              "    </tr>\n",
              "    <tr>\n",
              "      <th>7</th>\n",
              "      <td>8</td>\n",
              "      <td>10.0</td>\n",
              "      <td>킬링타임용 공포영화로는 괜찮음 단점도 많지만 볼만한 부분도 있음 여자 배우들 연기는...</td>\n",
              "      <td>2019-05-29 11:29:00</td>\n",
              "      <td>177371</td>\n",
              "    </tr>\n",
              "    <tr>\n",
              "      <th>8</th>\n",
              "      <td>9</td>\n",
              "      <td>10.0</td>\n",
              "      <td>아는형님에서 정은지 눈빛연기보고 이건 봐야겠다 했는데 공포연기 ㅎㄷㄷ 눈빛 진짜 공...</td>\n",
              "      <td>2019-05-29 09:35:00</td>\n",
              "      <td>177371</td>\n",
              "    </tr>\n",
              "    <tr>\n",
              "      <th>9</th>\n",
              "      <td>10</td>\n",
              "      <td>10.0</td>\n",
              "      <td>정은지 연기 물올랐다 ㄷㄷㄷ 보는내내 숨막혀 죽는줄 원작웹툰도 명작이었는데 영화도 ...</td>\n",
              "      <td>2019-05-29 12:11:00</td>\n",
              "      <td>177371</td>\n",
              "    </tr>\n",
              "  </tbody>\n",
              "</table>\n",
              "</div>\n",
              "      <button class=\"colab-df-convert\" onclick=\"convertToInteractive('df-a59f46ae-f16d-4f3d-ae7d-f7105f10d0fa')\"\n",
              "              title=\"Convert this dataframe to an interactive table.\"\n",
              "              style=\"display:none;\">\n",
              "        \n",
              "  <svg xmlns=\"http://www.w3.org/2000/svg\" height=\"24px\"viewBox=\"0 0 24 24\"\n",
              "       width=\"24px\">\n",
              "    <path d=\"M0 0h24v24H0V0z\" fill=\"none\"/>\n",
              "    <path d=\"M18.56 5.44l.94 2.06.94-2.06 2.06-.94-2.06-.94-.94-2.06-.94 2.06-2.06.94zm-11 1L8.5 8.5l.94-2.06 2.06-.94-2.06-.94L8.5 2.5l-.94 2.06-2.06.94zm10 10l.94 2.06.94-2.06 2.06-.94-2.06-.94-.94-2.06-.94 2.06-2.06.94z\"/><path d=\"M17.41 7.96l-1.37-1.37c-.4-.4-.92-.59-1.43-.59-.52 0-1.04.2-1.43.59L10.3 9.45l-7.72 7.72c-.78.78-.78 2.05 0 2.83L4 21.41c.39.39.9.59 1.41.59.51 0 1.02-.2 1.41-.59l7.78-7.78 2.81-2.81c.8-.78.8-2.07 0-2.86zM5.41 20L4 18.59l7.72-7.72 1.47 1.35L5.41 20z\"/>\n",
              "  </svg>\n",
              "      </button>\n",
              "      \n",
              "  <style>\n",
              "    .colab-df-container {\n",
              "      display:flex;\n",
              "      flex-wrap:wrap;\n",
              "      gap: 12px;\n",
              "    }\n",
              "\n",
              "    .colab-df-convert {\n",
              "      background-color: #E8F0FE;\n",
              "      border: none;\n",
              "      border-radius: 50%;\n",
              "      cursor: pointer;\n",
              "      display: none;\n",
              "      fill: #1967D2;\n",
              "      height: 32px;\n",
              "      padding: 0 0 0 0;\n",
              "      width: 32px;\n",
              "    }\n",
              "\n",
              "    .colab-df-convert:hover {\n",
              "      background-color: #E2EBFA;\n",
              "      box-shadow: 0px 1px 2px rgba(60, 64, 67, 0.3), 0px 1px 3px 1px rgba(60, 64, 67, 0.15);\n",
              "      fill: #174EA6;\n",
              "    }\n",
              "\n",
              "    [theme=dark] .colab-df-convert {\n",
              "      background-color: #3B4455;\n",
              "      fill: #D2E3FC;\n",
              "    }\n",
              "\n",
              "    [theme=dark] .colab-df-convert:hover {\n",
              "      background-color: #434B5C;\n",
              "      box-shadow: 0px 1px 3px 1px rgba(0, 0, 0, 0.15);\n",
              "      filter: drop-shadow(0px 1px 2px rgba(0, 0, 0, 0.3));\n",
              "      fill: #FFFFFF;\n",
              "    }\n",
              "  </style>\n",
              "\n",
              "      <script>\n",
              "        const buttonEl =\n",
              "          document.querySelector('#df-a59f46ae-f16d-4f3d-ae7d-f7105f10d0fa button.colab-df-convert');\n",
              "        buttonEl.style.display =\n",
              "          google.colab.kernel.accessAllowed ? 'block' : 'none';\n",
              "\n",
              "        async function convertToInteractive(key) {\n",
              "          const element = document.querySelector('#df-a59f46ae-f16d-4f3d-ae7d-f7105f10d0fa');\n",
              "          const dataTable =\n",
              "            await google.colab.kernel.invokeFunction('convertToInteractive',\n",
              "                                                     [key], {});\n",
              "          if (!dataTable) return;\n",
              "\n",
              "          const docLinkHtml = 'Like what you see? Visit the ' +\n",
              "            '<a target=\"_blank\" href=https://colab.research.google.com/notebooks/data_table.ipynb>data table notebook</a>'\n",
              "            + ' to learn more about interactive tables.';\n",
              "          element.innerHTML = '';\n",
              "          dataTable['output_type'] = 'display_data';\n",
              "          await google.colab.output.renderOutput(dataTable, element);\n",
              "          const docLink = document.createElement('div');\n",
              "          docLink.innerHTML = docLinkHtml;\n",
              "          element.appendChild(docLink);\n",
              "        }\n",
              "      </script>\n",
              "    </div>\n",
              "  </div>\n",
              "  "
            ]
          },
          "metadata": {},
          "execution_count": 4
        }
      ]
    },
    {
      "cell_type": "code",
      "source": [
        "!pip install konlpy"
      ],
      "metadata": {
        "colab": {
          "base_uri": "https://localhost:8080/"
        },
        "id": "l7xbVtZAkDck",
        "outputId": "0177bb6c-c87f-4ef7-d7d2-67c639f478b7"
      },
      "execution_count": 5,
      "outputs": [
        {
          "output_type": "stream",
          "name": "stdout",
          "text": [
            "Looking in indexes: https://pypi.org/simple, https://us-python.pkg.dev/colab-wheels/public/simple/\n",
            "Collecting konlpy\n",
            "  Downloading konlpy-0.6.0-py2.py3-none-any.whl (19.4 MB)\n",
            "\u001b[2K     \u001b[90m━━━━━━━━━━━━━━━━━━━━━━━━━━━━━━━━━━━━━━━━\u001b[0m \u001b[32m19.4/19.4 MB\u001b[0m \u001b[31m33.5 MB/s\u001b[0m eta \u001b[36m0:00:00\u001b[0m\n",
            "\u001b[?25hCollecting JPype1>=0.7.0\n",
            "  Downloading JPype1-1.4.1-cp38-cp38-manylinux_2_12_x86_64.manylinux2010_x86_64.whl (465 kB)\n",
            "\u001b[2K     \u001b[90m━━━━━━━━━━━━━━━━━━━━━━━━━━━━━━━━━━━━━━\u001b[0m \u001b[32m465.6/465.6 KB\u001b[0m \u001b[31m32.5 MB/s\u001b[0m eta \u001b[36m0:00:00\u001b[0m\n",
            "\u001b[?25hRequirement already satisfied: lxml>=4.1.0 in /usr/local/lib/python3.8/dist-packages (from konlpy) (4.9.2)\n",
            "Requirement already satisfied: numpy>=1.6 in /usr/local/lib/python3.8/dist-packages (from konlpy) (1.21.6)\n",
            "Requirement already satisfied: packaging in /usr/local/lib/python3.8/dist-packages (from JPype1>=0.7.0->konlpy) (21.3)\n",
            "Requirement already satisfied: pyparsing!=3.0.5,>=2.0.2 in /usr/local/lib/python3.8/dist-packages (from packaging->JPype1>=0.7.0->konlpy) (3.0.9)\n",
            "Installing collected packages: JPype1, konlpy\n",
            "Successfully installed JPype1-1.4.1 konlpy-0.6.0\n"
          ]
        }
      ]
    },
    {
      "cell_type": "code",
      "source": [
        "import pickle\n",
        "import pandas as pd\n",
        "import numpy as np\n",
        "import matplotlib.pyplot as plt\n",
        "import re\n",
        "import urllib.request\n",
        "from konlpy.tag import Okt\n",
        "from tqdm import tqdm"
      ],
      "metadata": {
        "id": "IiPzOCu-j4f7"
      },
      "execution_count": 6,
      "outputs": []
    },
    {
      "cell_type": "code",
      "source": [
        "data.shape"
      ],
      "metadata": {
        "colab": {
          "base_uri": "https://localhost:8080/"
        },
        "id": "nB_k7_zdkU_5",
        "outputId": "2e0f8656-a8c4-48da-d09f-60622c5bf2f6"
      },
      "execution_count": 7,
      "outputs": [
        {
          "output_type": "execute_result",
          "data": {
            "text/plain": [
              "(108280, 5)"
            ]
          },
          "metadata": {},
          "execution_count": 7
        }
      ]
    },
    {
      "cell_type": "code",
      "source": [
        "# review 열과 c_date 열의 중복을 제외한 값의 개수\n",
        "data['review'].nunique(), data['c_date'].nunique()"
      ],
      "metadata": {
        "colab": {
          "base_uri": "https://localhost:8080/"
        },
        "id": "sYB4mvsrkHVQ",
        "outputId": "0aad0243-1fb3-48b4-fb48-33b78457ef64"
      },
      "execution_count": 8,
      "outputs": [
        {
          "output_type": "execute_result",
          "data": {
            "text/plain": [
              "(104650, 101723)"
            ]
          },
          "metadata": {},
          "execution_count": 8
        }
      ]
    },
    {
      "cell_type": "code",
      "source": [
        "data.loc[data.review.isnull()]"
      ],
      "metadata": {
        "colab": {
          "base_uri": "https://localhost:8080/",
          "height": 423
        },
        "id": "qcBTR4HqkiE5",
        "outputId": "2d1580d0-4cd3-40ba-f765-370ac71d42cd"
      },
      "execution_count": 9,
      "outputs": [
        {
          "output_type": "execute_result",
          "data": {
            "text/plain": [
              "            no  grade review               c_date  movie_id\n",
              "110        111    1.0    NaN  2020-07-26 19:31:00    189051\n",
              "349        350    2.0    NaN  2019-10-03 11:29:00    186679\n",
              "408        409   10.0    NaN  2019-10-23 10:09:00    179482\n",
              "424        425   10.0    NaN  2019-10-23 10:09:00    179482\n",
              "426        427   10.0    NaN  2019-10-23 10:59:00    179482\n",
              "...        ...    ...    ...                  ...       ...\n",
              "108218  108219    9.0    NaN  2022-02-08 23:40:00     10621\n",
              "108219  108220   10.0    NaN  2022-01-06 22:35:00     10621\n",
              "108223  108224   10.0    NaN  2021-07-04 21:40:00     10621\n",
              "108228  108229   10.0    NaN  2020-02-23 18:54:00     10621\n",
              "108260  108261    8.0    NaN  2020-10-10 23:35:00     10621\n",
              "\n",
              "[2967 rows x 5 columns]"
            ],
            "text/html": [
              "\n",
              "  <div id=\"df-8f292ce7-492e-4bbb-8ee8-fcb0a2a4856d\">\n",
              "    <div class=\"colab-df-container\">\n",
              "      <div>\n",
              "<style scoped>\n",
              "    .dataframe tbody tr th:only-of-type {\n",
              "        vertical-align: middle;\n",
              "    }\n",
              "\n",
              "    .dataframe tbody tr th {\n",
              "        vertical-align: top;\n",
              "    }\n",
              "\n",
              "    .dataframe thead th {\n",
              "        text-align: right;\n",
              "    }\n",
              "</style>\n",
              "<table border=\"1\" class=\"dataframe\">\n",
              "  <thead>\n",
              "    <tr style=\"text-align: right;\">\n",
              "      <th></th>\n",
              "      <th>no</th>\n",
              "      <th>grade</th>\n",
              "      <th>review</th>\n",
              "      <th>c_date</th>\n",
              "      <th>movie_id</th>\n",
              "    </tr>\n",
              "  </thead>\n",
              "  <tbody>\n",
              "    <tr>\n",
              "      <th>110</th>\n",
              "      <td>111</td>\n",
              "      <td>1.0</td>\n",
              "      <td>NaN</td>\n",
              "      <td>2020-07-26 19:31:00</td>\n",
              "      <td>189051</td>\n",
              "    </tr>\n",
              "    <tr>\n",
              "      <th>349</th>\n",
              "      <td>350</td>\n",
              "      <td>2.0</td>\n",
              "      <td>NaN</td>\n",
              "      <td>2019-10-03 11:29:00</td>\n",
              "      <td>186679</td>\n",
              "    </tr>\n",
              "    <tr>\n",
              "      <th>408</th>\n",
              "      <td>409</td>\n",
              "      <td>10.0</td>\n",
              "      <td>NaN</td>\n",
              "      <td>2019-10-23 10:09:00</td>\n",
              "      <td>179482</td>\n",
              "    </tr>\n",
              "    <tr>\n",
              "      <th>424</th>\n",
              "      <td>425</td>\n",
              "      <td>10.0</td>\n",
              "      <td>NaN</td>\n",
              "      <td>2019-10-23 10:09:00</td>\n",
              "      <td>179482</td>\n",
              "    </tr>\n",
              "    <tr>\n",
              "      <th>426</th>\n",
              "      <td>427</td>\n",
              "      <td>10.0</td>\n",
              "      <td>NaN</td>\n",
              "      <td>2019-10-23 10:59:00</td>\n",
              "      <td>179482</td>\n",
              "    </tr>\n",
              "    <tr>\n",
              "      <th>...</th>\n",
              "      <td>...</td>\n",
              "      <td>...</td>\n",
              "      <td>...</td>\n",
              "      <td>...</td>\n",
              "      <td>...</td>\n",
              "    </tr>\n",
              "    <tr>\n",
              "      <th>108218</th>\n",
              "      <td>108219</td>\n",
              "      <td>9.0</td>\n",
              "      <td>NaN</td>\n",
              "      <td>2022-02-08 23:40:00</td>\n",
              "      <td>10621</td>\n",
              "    </tr>\n",
              "    <tr>\n",
              "      <th>108219</th>\n",
              "      <td>108220</td>\n",
              "      <td>10.0</td>\n",
              "      <td>NaN</td>\n",
              "      <td>2022-01-06 22:35:00</td>\n",
              "      <td>10621</td>\n",
              "    </tr>\n",
              "    <tr>\n",
              "      <th>108223</th>\n",
              "      <td>108224</td>\n",
              "      <td>10.0</td>\n",
              "      <td>NaN</td>\n",
              "      <td>2021-07-04 21:40:00</td>\n",
              "      <td>10621</td>\n",
              "    </tr>\n",
              "    <tr>\n",
              "      <th>108228</th>\n",
              "      <td>108229</td>\n",
              "      <td>10.0</td>\n",
              "      <td>NaN</td>\n",
              "      <td>2020-02-23 18:54:00</td>\n",
              "      <td>10621</td>\n",
              "    </tr>\n",
              "    <tr>\n",
              "      <th>108260</th>\n",
              "      <td>108261</td>\n",
              "      <td>8.0</td>\n",
              "      <td>NaN</td>\n",
              "      <td>2020-10-10 23:35:00</td>\n",
              "      <td>10621</td>\n",
              "    </tr>\n",
              "  </tbody>\n",
              "</table>\n",
              "<p>2967 rows × 5 columns</p>\n",
              "</div>\n",
              "      <button class=\"colab-df-convert\" onclick=\"convertToInteractive('df-8f292ce7-492e-4bbb-8ee8-fcb0a2a4856d')\"\n",
              "              title=\"Convert this dataframe to an interactive table.\"\n",
              "              style=\"display:none;\">\n",
              "        \n",
              "  <svg xmlns=\"http://www.w3.org/2000/svg\" height=\"24px\"viewBox=\"0 0 24 24\"\n",
              "       width=\"24px\">\n",
              "    <path d=\"M0 0h24v24H0V0z\" fill=\"none\"/>\n",
              "    <path d=\"M18.56 5.44l.94 2.06.94-2.06 2.06-.94-2.06-.94-.94-2.06-.94 2.06-2.06.94zm-11 1L8.5 8.5l.94-2.06 2.06-.94-2.06-.94L8.5 2.5l-.94 2.06-2.06.94zm10 10l.94 2.06.94-2.06 2.06-.94-2.06-.94-.94-2.06-.94 2.06-2.06.94z\"/><path d=\"M17.41 7.96l-1.37-1.37c-.4-.4-.92-.59-1.43-.59-.52 0-1.04.2-1.43.59L10.3 9.45l-7.72 7.72c-.78.78-.78 2.05 0 2.83L4 21.41c.39.39.9.59 1.41.59.51 0 1.02-.2 1.41-.59l7.78-7.78 2.81-2.81c.8-.78.8-2.07 0-2.86zM5.41 20L4 18.59l7.72-7.72 1.47 1.35L5.41 20z\"/>\n",
              "  </svg>\n",
              "      </button>\n",
              "      \n",
              "  <style>\n",
              "    .colab-df-container {\n",
              "      display:flex;\n",
              "      flex-wrap:wrap;\n",
              "      gap: 12px;\n",
              "    }\n",
              "\n",
              "    .colab-df-convert {\n",
              "      background-color: #E8F0FE;\n",
              "      border: none;\n",
              "      border-radius: 50%;\n",
              "      cursor: pointer;\n",
              "      display: none;\n",
              "      fill: #1967D2;\n",
              "      height: 32px;\n",
              "      padding: 0 0 0 0;\n",
              "      width: 32px;\n",
              "    }\n",
              "\n",
              "    .colab-df-convert:hover {\n",
              "      background-color: #E2EBFA;\n",
              "      box-shadow: 0px 1px 2px rgba(60, 64, 67, 0.3), 0px 1px 3px 1px rgba(60, 64, 67, 0.15);\n",
              "      fill: #174EA6;\n",
              "    }\n",
              "\n",
              "    [theme=dark] .colab-df-convert {\n",
              "      background-color: #3B4455;\n",
              "      fill: #D2E3FC;\n",
              "    }\n",
              "\n",
              "    [theme=dark] .colab-df-convert:hover {\n",
              "      background-color: #434B5C;\n",
              "      box-shadow: 0px 1px 3px 1px rgba(0, 0, 0, 0.15);\n",
              "      filter: drop-shadow(0px 1px 2px rgba(0, 0, 0, 0.3));\n",
              "      fill: #FFFFFF;\n",
              "    }\n",
              "  </style>\n",
              "\n",
              "      <script>\n",
              "        const buttonEl =\n",
              "          document.querySelector('#df-8f292ce7-492e-4bbb-8ee8-fcb0a2a4856d button.colab-df-convert');\n",
              "        buttonEl.style.display =\n",
              "          google.colab.kernel.accessAllowed ? 'block' : 'none';\n",
              "\n",
              "        async function convertToInteractive(key) {\n",
              "          const element = document.querySelector('#df-8f292ce7-492e-4bbb-8ee8-fcb0a2a4856d');\n",
              "          const dataTable =\n",
              "            await google.colab.kernel.invokeFunction('convertToInteractive',\n",
              "                                                     [key], {});\n",
              "          if (!dataTable) return;\n",
              "\n",
              "          const docLinkHtml = 'Like what you see? Visit the ' +\n",
              "            '<a target=\"_blank\" href=https://colab.research.google.com/notebooks/data_table.ipynb>data table notebook</a>'\n",
              "            + ' to learn more about interactive tables.';\n",
              "          element.innerHTML = '';\n",
              "          dataTable['output_type'] = 'display_data';\n",
              "          await google.colab.output.renderOutput(dataTable, element);\n",
              "          const docLink = document.createElement('div');\n",
              "          docLink.innerHTML = docLinkHtml;\n",
              "          element.appendChild(docLink);\n",
              "        }\n",
              "      </script>\n",
              "    </div>\n",
              "  </div>\n",
              "  "
            ]
          },
          "metadata": {},
          "execution_count": 9
        }
      ]
    },
    {
      "cell_type": "code",
      "source": [
        "# Null 값이 존재하는 행 제거 \n",
        "# c_date가 null인경우가 없어 아래처럼 작성했지만, 확인 요망\n",
        "data = data.dropna(how = 'any') \n",
        "\n",
        "# Null 값이 존재하는지 확인\n",
        "print(data.isnull().values.any()) "
      ],
      "metadata": {
        "colab": {
          "base_uri": "https://localhost:8080/"
        },
        "id": "jhSI_BBMkxJR",
        "outputId": "a755fb6d-2b82-444c-e4c1-0084365d4096"
      },
      "execution_count": 10,
      "outputs": [
        {
          "output_type": "stream",
          "name": "stdout",
          "text": [
            "False\n"
          ]
        }
      ]
    },
    {
      "cell_type": "code",
      "source": [
        "# 특수문자 & ㄷㄷㄷ, ㅜㅜ 와 같은 문자열 제거\n",
        "data['review'] = data['review'].str.replace(\"[^가-힣A-Za-z ]\",\"\")\n",
        "data[:30]"
      ],
      "metadata": {
        "colab": {
          "base_uri": "https://localhost:8080/",
          "height": 1000
        },
        "id": "mQbLU5kgk5pl",
        "outputId": "0e42f9c3-8c79-461f-ea2f-2817ed1476b9"
      },
      "execution_count": 11,
      "outputs": [
        {
          "output_type": "stream",
          "name": "stderr",
          "text": [
            "<ipython-input-11-382351978531>:2: FutureWarning: The default value of regex will change from True to False in a future version.\n",
            "  data['review'] = data['review'].str.replace(\"[^가-힣A-Za-z ]\",\"\")\n"
          ]
        },
        {
          "output_type": "execute_result",
          "data": {
            "text/plain": [
              "    no  grade                                             review  \\\n",
              "0    1    1.0  와 정말 무서운집 수준의 공포영화가 한국에 다시 나왔네요 꼭 보러 가세요착석하신 순...   \n",
              "1    2   10.0      내용 구성이나 연출 cg는 저예산 영화 정도의 수준이었지만 정은지가 연기를 잘한다   \n",
              "2    3    2.0  상엽이 형은 어쩌다가 어릴때 죽었는지 다리 피흘리는 여고생 연관있을줄 알았는데 연관...   \n",
              "3    4   10.0                                          정은지 연기 소름   \n",
              "4    5    6.0  일단 정은지는 완전 합격점 최윤영도 좋았다 여배우 둘 빼면 에휴게다가 초반 고막 묵...   \n",
              "5    6   10.0                       정은지는 노래도 월클이고 연기까지 월클인 것 같다    \n",
              "6    7   10.0                    정은지 스크린 데뷔 넘 좋았음  표정 꿈에 나올듯 개무섭   \n",
              "7    8   10.0  킬링타임용 공포영화로는 괜찮음 단점도 많지만 볼만한 부분도 있음 여자 배우들 연기는...   \n",
              "8    9   10.0  아는형님에서 정은지 눈빛연기보고 이건 봐야겠다 했는데 공포연기  눈빛 진짜 공포물 최적화   \n",
              "9   10   10.0   정은지 연기 물올랐다  보는내내 숨막혀 죽는줄 원작웹툰도 명작이었는데 영화도 꿀잼이었다   \n",
              "10  11   10.0                정은지 최윤영 연기 잘해서 몰입이 잘 됐어요 글구 진짜 무서워    \n",
              "11  12   10.0  일단 배우 연기 너무 좋았음 원작 스토리가 워낙 탄탄해서 나는 재밌게 잘 봄 중간중...   \n",
              "12  13   10.0                                      정은지 최윤영의 연기 점   \n",
              "13  14    8.0            정은지가 캐리했네요 그리고 나름 웹툰 원작이랑 내용이 같아서 만족합니다   \n",
              "14  15   10.0                                        무서워눈빛연기 지린다   \n",
              "15  16    2.0                                 영화가 제목을 따라간다 공포지수    \n",
              "16  17   10.0                                     정은지가 연기진짜 잘하는듯   \n",
              "17  18    8.0  공포영화 입문작으로 추천할 만한 영화공포영화라고 하기엔 약간 아쉽고 스토리를 중심으...   \n",
              "18  19   10.0                                    정은지 이뻐씹덕핳 그냥 이뻐   \n",
              "19  20   10.0  정은지 첫 주연작 mhz 대박나자 영화 보고 왔는데 곤지암보단 훨배 나음 진짜로 다...   \n",
              "20  21    1.0  진짜 연출도 엉망 댓글들 다알바니까 믿지마셈 나중에나오는 귀신이랑 불나는거 cg처리...   \n",
              "21  22   10.0              솔직히 정은지 사투리연기가 최고였다 어색하지도않고 자연스러웠고 굿굿   \n",
              "22  23    7.0  팬이지만 객관적으로 봤을때 개연성이 없어서 엄청 공포스럽지는 않았음좀 클리셰한 장면...   \n",
              "23  24   10.0  올 여름 무더위를 날리는 공포영화  정은지 첫 주연작으로 연기도 잘하고 웹툰만큼 재...   \n",
              "24  25    2.0       쿠폰 존나 뿌리고 상영관은 거의없고 하는곳은 시 시  영화를 어떻게 쳐보라는건지   \n",
              "25  26   10.0  웹툰 재밌게 봤는데 영화도 좋네요 정은지 배우님 연기 잘 봤습니다 최윤영 배우님도 ...   \n",
              "26  27    8.0  왜 이렇게 평점 낮은지 모를 정도 공포영화인데 세 관람가 기준이고 한국영화치고 스토...   \n",
              "27  28   10.0                               정은지 최윤영 두배우 연기 정말 잘해   \n",
              "28  29    8.0                                       정은지가 맥여 살렸다    \n",
              "29  30    7.0  킬링타임용으로 적합한 영화 배우들 연기는 생각보다 괜찮았는데 연출이문젠지 각본이 문...   \n",
              "\n",
              "                 c_date  movie_id  \n",
              "0   2019-05-29 13:30:00    177371  \n",
              "1   2019-05-29 10:58:00    177371  \n",
              "2   2019-05-29 20:15:00    177371  \n",
              "3   2019-05-29 12:21:00    177371  \n",
              "4   2019-05-29 11:34:00    177371  \n",
              "5   2019-05-29 11:37:00    177371  \n",
              "6   2019-05-29 11:27:00    177371  \n",
              "7   2019-05-29 11:29:00    177371  \n",
              "8   2019-05-29 09:35:00    177371  \n",
              "9   2019-05-29 12:11:00    177371  \n",
              "10  2019-05-29 11:17:00    177371  \n",
              "11  2019-05-29 11:36:00    177371  \n",
              "12  2019-05-29 14:26:00    177371  \n",
              "13  2019-05-29 11:27:00    177371  \n",
              "14  2019-05-29 11:02:00    177371  \n",
              "15  2019-05-30 19:45:00    177371  \n",
              "16  2019-05-29 18:34:00    177371  \n",
              "17  2019-05-29 13:29:00    177371  \n",
              "18  2019-05-29 09:01:00    177371  \n",
              "19  2019-05-29 09:16:00    177371  \n",
              "20  2019-06-01 03:50:00    177371  \n",
              "21  2019-05-29 16:59:00    177371  \n",
              "22  2019-05-29 10:20:00    177371  \n",
              "23  2019-05-29 11:44:00    177371  \n",
              "24  2019-05-29 16:55:00    177371  \n",
              "25  2019-05-29 16:32:00    177371  \n",
              "26  2019-05-29 15:40:00    177371  \n",
              "27  2019-05-29 13:57:00    177371  \n",
              "28  2019-05-29 23:09:00    177371  \n",
              "29  2019-05-29 11:06:00    177371  "
            ],
            "text/html": [
              "\n",
              "  <div id=\"df-386cf321-527b-4f92-a155-ef0a166d6894\">\n",
              "    <div class=\"colab-df-container\">\n",
              "      <div>\n",
              "<style scoped>\n",
              "    .dataframe tbody tr th:only-of-type {\n",
              "        vertical-align: middle;\n",
              "    }\n",
              "\n",
              "    .dataframe tbody tr th {\n",
              "        vertical-align: top;\n",
              "    }\n",
              "\n",
              "    .dataframe thead th {\n",
              "        text-align: right;\n",
              "    }\n",
              "</style>\n",
              "<table border=\"1\" class=\"dataframe\">\n",
              "  <thead>\n",
              "    <tr style=\"text-align: right;\">\n",
              "      <th></th>\n",
              "      <th>no</th>\n",
              "      <th>grade</th>\n",
              "      <th>review</th>\n",
              "      <th>c_date</th>\n",
              "      <th>movie_id</th>\n",
              "    </tr>\n",
              "  </thead>\n",
              "  <tbody>\n",
              "    <tr>\n",
              "      <th>0</th>\n",
              "      <td>1</td>\n",
              "      <td>1.0</td>\n",
              "      <td>와 정말 무서운집 수준의 공포영화가 한국에 다시 나왔네요 꼭 보러 가세요착석하신 순...</td>\n",
              "      <td>2019-05-29 13:30:00</td>\n",
              "      <td>177371</td>\n",
              "    </tr>\n",
              "    <tr>\n",
              "      <th>1</th>\n",
              "      <td>2</td>\n",
              "      <td>10.0</td>\n",
              "      <td>내용 구성이나 연출 cg는 저예산 영화 정도의 수준이었지만 정은지가 연기를 잘한다</td>\n",
              "      <td>2019-05-29 10:58:00</td>\n",
              "      <td>177371</td>\n",
              "    </tr>\n",
              "    <tr>\n",
              "      <th>2</th>\n",
              "      <td>3</td>\n",
              "      <td>2.0</td>\n",
              "      <td>상엽이 형은 어쩌다가 어릴때 죽었는지 다리 피흘리는 여고생 연관있을줄 알았는데 연관...</td>\n",
              "      <td>2019-05-29 20:15:00</td>\n",
              "      <td>177371</td>\n",
              "    </tr>\n",
              "    <tr>\n",
              "      <th>3</th>\n",
              "      <td>4</td>\n",
              "      <td>10.0</td>\n",
              "      <td>정은지 연기 소름</td>\n",
              "      <td>2019-05-29 12:21:00</td>\n",
              "      <td>177371</td>\n",
              "    </tr>\n",
              "    <tr>\n",
              "      <th>4</th>\n",
              "      <td>5</td>\n",
              "      <td>6.0</td>\n",
              "      <td>일단 정은지는 완전 합격점 최윤영도 좋았다 여배우 둘 빼면 에휴게다가 초반 고막 묵...</td>\n",
              "      <td>2019-05-29 11:34:00</td>\n",
              "      <td>177371</td>\n",
              "    </tr>\n",
              "    <tr>\n",
              "      <th>5</th>\n",
              "      <td>6</td>\n",
              "      <td>10.0</td>\n",
              "      <td>정은지는 노래도 월클이고 연기까지 월클인 것 같다</td>\n",
              "      <td>2019-05-29 11:37:00</td>\n",
              "      <td>177371</td>\n",
              "    </tr>\n",
              "    <tr>\n",
              "      <th>6</th>\n",
              "      <td>7</td>\n",
              "      <td>10.0</td>\n",
              "      <td>정은지 스크린 데뷔 넘 좋았음  표정 꿈에 나올듯 개무섭</td>\n",
              "      <td>2019-05-29 11:27:00</td>\n",
              "      <td>177371</td>\n",
              "    </tr>\n",
              "    <tr>\n",
              "      <th>7</th>\n",
              "      <td>8</td>\n",
              "      <td>10.0</td>\n",
              "      <td>킬링타임용 공포영화로는 괜찮음 단점도 많지만 볼만한 부분도 있음 여자 배우들 연기는...</td>\n",
              "      <td>2019-05-29 11:29:00</td>\n",
              "      <td>177371</td>\n",
              "    </tr>\n",
              "    <tr>\n",
              "      <th>8</th>\n",
              "      <td>9</td>\n",
              "      <td>10.0</td>\n",
              "      <td>아는형님에서 정은지 눈빛연기보고 이건 봐야겠다 했는데 공포연기  눈빛 진짜 공포물 최적화</td>\n",
              "      <td>2019-05-29 09:35:00</td>\n",
              "      <td>177371</td>\n",
              "    </tr>\n",
              "    <tr>\n",
              "      <th>9</th>\n",
              "      <td>10</td>\n",
              "      <td>10.0</td>\n",
              "      <td>정은지 연기 물올랐다  보는내내 숨막혀 죽는줄 원작웹툰도 명작이었는데 영화도 꿀잼이었다</td>\n",
              "      <td>2019-05-29 12:11:00</td>\n",
              "      <td>177371</td>\n",
              "    </tr>\n",
              "    <tr>\n",
              "      <th>10</th>\n",
              "      <td>11</td>\n",
              "      <td>10.0</td>\n",
              "      <td>정은지 최윤영 연기 잘해서 몰입이 잘 됐어요 글구 진짜 무서워</td>\n",
              "      <td>2019-05-29 11:17:00</td>\n",
              "      <td>177371</td>\n",
              "    </tr>\n",
              "    <tr>\n",
              "      <th>11</th>\n",
              "      <td>12</td>\n",
              "      <td>10.0</td>\n",
              "      <td>일단 배우 연기 너무 좋았음 원작 스토리가 워낙 탄탄해서 나는 재밌게 잘 봄 중간중...</td>\n",
              "      <td>2019-05-29 11:36:00</td>\n",
              "      <td>177371</td>\n",
              "    </tr>\n",
              "    <tr>\n",
              "      <th>12</th>\n",
              "      <td>13</td>\n",
              "      <td>10.0</td>\n",
              "      <td>정은지 최윤영의 연기 점</td>\n",
              "      <td>2019-05-29 14:26:00</td>\n",
              "      <td>177371</td>\n",
              "    </tr>\n",
              "    <tr>\n",
              "      <th>13</th>\n",
              "      <td>14</td>\n",
              "      <td>8.0</td>\n",
              "      <td>정은지가 캐리했네요 그리고 나름 웹툰 원작이랑 내용이 같아서 만족합니다</td>\n",
              "      <td>2019-05-29 11:27:00</td>\n",
              "      <td>177371</td>\n",
              "    </tr>\n",
              "    <tr>\n",
              "      <th>14</th>\n",
              "      <td>15</td>\n",
              "      <td>10.0</td>\n",
              "      <td>무서워눈빛연기 지린다</td>\n",
              "      <td>2019-05-29 11:02:00</td>\n",
              "      <td>177371</td>\n",
              "    </tr>\n",
              "    <tr>\n",
              "      <th>15</th>\n",
              "      <td>16</td>\n",
              "      <td>2.0</td>\n",
              "      <td>영화가 제목을 따라간다 공포지수</td>\n",
              "      <td>2019-05-30 19:45:00</td>\n",
              "      <td>177371</td>\n",
              "    </tr>\n",
              "    <tr>\n",
              "      <th>16</th>\n",
              "      <td>17</td>\n",
              "      <td>10.0</td>\n",
              "      <td>정은지가 연기진짜 잘하는듯</td>\n",
              "      <td>2019-05-29 18:34:00</td>\n",
              "      <td>177371</td>\n",
              "    </tr>\n",
              "    <tr>\n",
              "      <th>17</th>\n",
              "      <td>18</td>\n",
              "      <td>8.0</td>\n",
              "      <td>공포영화 입문작으로 추천할 만한 영화공포영화라고 하기엔 약간 아쉽고 스토리를 중심으...</td>\n",
              "      <td>2019-05-29 13:29:00</td>\n",
              "      <td>177371</td>\n",
              "    </tr>\n",
              "    <tr>\n",
              "      <th>18</th>\n",
              "      <td>19</td>\n",
              "      <td>10.0</td>\n",
              "      <td>정은지 이뻐씹덕핳 그냥 이뻐</td>\n",
              "      <td>2019-05-29 09:01:00</td>\n",
              "      <td>177371</td>\n",
              "    </tr>\n",
              "    <tr>\n",
              "      <th>19</th>\n",
              "      <td>20</td>\n",
              "      <td>10.0</td>\n",
              "      <td>정은지 첫 주연작 mhz 대박나자 영화 보고 왔는데 곤지암보단 훨배 나음 진짜로 다...</td>\n",
              "      <td>2019-05-29 09:16:00</td>\n",
              "      <td>177371</td>\n",
              "    </tr>\n",
              "    <tr>\n",
              "      <th>20</th>\n",
              "      <td>21</td>\n",
              "      <td>1.0</td>\n",
              "      <td>진짜 연출도 엉망 댓글들 다알바니까 믿지마셈 나중에나오는 귀신이랑 불나는거 cg처리...</td>\n",
              "      <td>2019-06-01 03:50:00</td>\n",
              "      <td>177371</td>\n",
              "    </tr>\n",
              "    <tr>\n",
              "      <th>21</th>\n",
              "      <td>22</td>\n",
              "      <td>10.0</td>\n",
              "      <td>솔직히 정은지 사투리연기가 최고였다 어색하지도않고 자연스러웠고 굿굿</td>\n",
              "      <td>2019-05-29 16:59:00</td>\n",
              "      <td>177371</td>\n",
              "    </tr>\n",
              "    <tr>\n",
              "      <th>22</th>\n",
              "      <td>23</td>\n",
              "      <td>7.0</td>\n",
              "      <td>팬이지만 객관적으로 봤을때 개연성이 없어서 엄청 공포스럽지는 않았음좀 클리셰한 장면...</td>\n",
              "      <td>2019-05-29 10:20:00</td>\n",
              "      <td>177371</td>\n",
              "    </tr>\n",
              "    <tr>\n",
              "      <th>23</th>\n",
              "      <td>24</td>\n",
              "      <td>10.0</td>\n",
              "      <td>올 여름 무더위를 날리는 공포영화  정은지 첫 주연작으로 연기도 잘하고 웹툰만큼 재...</td>\n",
              "      <td>2019-05-29 11:44:00</td>\n",
              "      <td>177371</td>\n",
              "    </tr>\n",
              "    <tr>\n",
              "      <th>24</th>\n",
              "      <td>25</td>\n",
              "      <td>2.0</td>\n",
              "      <td>쿠폰 존나 뿌리고 상영관은 거의없고 하는곳은 시 시  영화를 어떻게 쳐보라는건지</td>\n",
              "      <td>2019-05-29 16:55:00</td>\n",
              "      <td>177371</td>\n",
              "    </tr>\n",
              "    <tr>\n",
              "      <th>25</th>\n",
              "      <td>26</td>\n",
              "      <td>10.0</td>\n",
              "      <td>웹툰 재밌게 봤는데 영화도 좋네요 정은지 배우님 연기 잘 봤습니다 최윤영 배우님도 ...</td>\n",
              "      <td>2019-05-29 16:32:00</td>\n",
              "      <td>177371</td>\n",
              "    </tr>\n",
              "    <tr>\n",
              "      <th>26</th>\n",
              "      <td>27</td>\n",
              "      <td>8.0</td>\n",
              "      <td>왜 이렇게 평점 낮은지 모를 정도 공포영화인데 세 관람가 기준이고 한국영화치고 스토...</td>\n",
              "      <td>2019-05-29 15:40:00</td>\n",
              "      <td>177371</td>\n",
              "    </tr>\n",
              "    <tr>\n",
              "      <th>27</th>\n",
              "      <td>28</td>\n",
              "      <td>10.0</td>\n",
              "      <td>정은지 최윤영 두배우 연기 정말 잘해</td>\n",
              "      <td>2019-05-29 13:57:00</td>\n",
              "      <td>177371</td>\n",
              "    </tr>\n",
              "    <tr>\n",
              "      <th>28</th>\n",
              "      <td>29</td>\n",
              "      <td>8.0</td>\n",
              "      <td>정은지가 맥여 살렸다</td>\n",
              "      <td>2019-05-29 23:09:00</td>\n",
              "      <td>177371</td>\n",
              "    </tr>\n",
              "    <tr>\n",
              "      <th>29</th>\n",
              "      <td>30</td>\n",
              "      <td>7.0</td>\n",
              "      <td>킬링타임용으로 적합한 영화 배우들 연기는 생각보다 괜찮았는데 연출이문젠지 각본이 문...</td>\n",
              "      <td>2019-05-29 11:06:00</td>\n",
              "      <td>177371</td>\n",
              "    </tr>\n",
              "  </tbody>\n",
              "</table>\n",
              "</div>\n",
              "      <button class=\"colab-df-convert\" onclick=\"convertToInteractive('df-386cf321-527b-4f92-a155-ef0a166d6894')\"\n",
              "              title=\"Convert this dataframe to an interactive table.\"\n",
              "              style=\"display:none;\">\n",
              "        \n",
              "  <svg xmlns=\"http://www.w3.org/2000/svg\" height=\"24px\"viewBox=\"0 0 24 24\"\n",
              "       width=\"24px\">\n",
              "    <path d=\"M0 0h24v24H0V0z\" fill=\"none\"/>\n",
              "    <path d=\"M18.56 5.44l.94 2.06.94-2.06 2.06-.94-2.06-.94-.94-2.06-.94 2.06-2.06.94zm-11 1L8.5 8.5l.94-2.06 2.06-.94-2.06-.94L8.5 2.5l-.94 2.06-2.06.94zm10 10l.94 2.06.94-2.06 2.06-.94-2.06-.94-.94-2.06-.94 2.06-2.06.94z\"/><path d=\"M17.41 7.96l-1.37-1.37c-.4-.4-.92-.59-1.43-.59-.52 0-1.04.2-1.43.59L10.3 9.45l-7.72 7.72c-.78.78-.78 2.05 0 2.83L4 21.41c.39.39.9.59 1.41.59.51 0 1.02-.2 1.41-.59l7.78-7.78 2.81-2.81c.8-.78.8-2.07 0-2.86zM5.41 20L4 18.59l7.72-7.72 1.47 1.35L5.41 20z\"/>\n",
              "  </svg>\n",
              "      </button>\n",
              "      \n",
              "  <style>\n",
              "    .colab-df-container {\n",
              "      display:flex;\n",
              "      flex-wrap:wrap;\n",
              "      gap: 12px;\n",
              "    }\n",
              "\n",
              "    .colab-df-convert {\n",
              "      background-color: #E8F0FE;\n",
              "      border: none;\n",
              "      border-radius: 50%;\n",
              "      cursor: pointer;\n",
              "      display: none;\n",
              "      fill: #1967D2;\n",
              "      height: 32px;\n",
              "      padding: 0 0 0 0;\n",
              "      width: 32px;\n",
              "    }\n",
              "\n",
              "    .colab-df-convert:hover {\n",
              "      background-color: #E2EBFA;\n",
              "      box-shadow: 0px 1px 2px rgba(60, 64, 67, 0.3), 0px 1px 3px 1px rgba(60, 64, 67, 0.15);\n",
              "      fill: #174EA6;\n",
              "    }\n",
              "\n",
              "    [theme=dark] .colab-df-convert {\n",
              "      background-color: #3B4455;\n",
              "      fill: #D2E3FC;\n",
              "    }\n",
              "\n",
              "    [theme=dark] .colab-df-convert:hover {\n",
              "      background-color: #434B5C;\n",
              "      box-shadow: 0px 1px 3px 1px rgba(0, 0, 0, 0.15);\n",
              "      filter: drop-shadow(0px 1px 2px rgba(0, 0, 0, 0.3));\n",
              "      fill: #FFFFFF;\n",
              "    }\n",
              "  </style>\n",
              "\n",
              "      <script>\n",
              "        const buttonEl =\n",
              "          document.querySelector('#df-386cf321-527b-4f92-a155-ef0a166d6894 button.colab-df-convert');\n",
              "        buttonEl.style.display =\n",
              "          google.colab.kernel.accessAllowed ? 'block' : 'none';\n",
              "\n",
              "        async function convertToInteractive(key) {\n",
              "          const element = document.querySelector('#df-386cf321-527b-4f92-a155-ef0a166d6894');\n",
              "          const dataTable =\n",
              "            await google.colab.kernel.invokeFunction('convertToInteractive',\n",
              "                                                     [key], {});\n",
              "          if (!dataTable) return;\n",
              "\n",
              "          const docLinkHtml = 'Like what you see? Visit the ' +\n",
              "            '<a target=\"_blank\" href=https://colab.research.google.com/notebooks/data_table.ipynb>data table notebook</a>'\n",
              "            + ' to learn more about interactive tables.';\n",
              "          element.innerHTML = '';\n",
              "          dataTable['output_type'] = 'display_data';\n",
              "          await google.colab.output.renderOutput(dataTable, element);\n",
              "          const docLink = document.createElement('div');\n",
              "          docLink.innerHTML = docLinkHtml;\n",
              "          element.appendChild(docLink);\n",
              "        }\n",
              "      </script>\n",
              "    </div>\n",
              "  </div>\n",
              "  "
            ]
          },
          "metadata": {},
          "execution_count": 11
        }
      ]
    },
    {
      "cell_type": "code",
      "source": [],
      "metadata": {
        "id": "RxNWyGyhqDaQ"
      },
      "execution_count": 11,
      "outputs": []
    },
    {
      "cell_type": "code",
      "source": [
        "# 영화별로 긍/부정 평가의 분포"
      ],
      "metadata": {
        "id": "Ye7Yxkp0ocPO"
      },
      "execution_count": 12,
      "outputs": []
    },
    {
      "cell_type": "code",
      "source": [
        "# 긍/부정 라벨 생성 - 여기를 단순 7이 아니라 quntile 이런걸로 해야하나 \n",
        "data[\"label\"] = data[\"grade\"].apply(lambda x : 1 if x>5 else 0 )\n",
        "\n",
        "# 부정개수                            긍정개수\n",
        "len(data['label']) -  data[\"label\"].sum(), data[\"label\"].sum()\n",
        "\n"
      ],
      "metadata": {
        "colab": {
          "base_uri": "https://localhost:8080/"
        },
        "id": "H88Tc5N0lzDL",
        "outputId": "f70937fe-4725-4669-ae29-8e63653a3c94"
      },
      "execution_count": 13,
      "outputs": [
        {
          "output_type": "execute_result",
          "data": {
            "text/plain": [
              "(27590, 77723)"
            ]
          },
          "metadata": {},
          "execution_count": 13
        }
      ]
    },
    {
      "cell_type": "code",
      "source": [
        "colors = ['#ff9999', '#ffc000']\n",
        "col = [\"Positive\",\"Negative\"]\n",
        "\n",
        "\n",
        "fig = plt.figure(figsize=(10,10)) ## 캔버스 생성\n",
        "fig.set_facecolor('white') ## 캔버스 배경색을 하얀색으로 설정\n",
        "ax = fig.add_subplot() ## 프레임 생성\n",
        "explode = [0.05, 0.05]\n",
        "frequency = [ len(data[\"label\"] - data[\"label\"].sum() ) , data[\"label\"].sum()  ]\n",
        "# frequency =  tmp_df.groupby(\"release_year\")[\"id\"].count()\n",
        "\n",
        "pie = ax.pie(frequency, ## 파이차트 출력\n",
        "       startangle=100, ## 시작점을 90도(degree)로 지정\n",
        "       counterclock=False, ## 시계방향으로 그려짐\n",
        "       labels=col,\n",
        "       colors = colors, ## 색상 지정\n",
        "       explode=explode, \n",
        "       textprops={'fontsize': 14} # 라벨 텍스트 사이즈 지정 \n",
        "       )\n",
        "bbox_props = dict(boxstyle='square',fc='w',ec='w',alpha=0) ## annotation 박스 스타일\n",
        " \n",
        "\n",
        "config = dict(arrowprops=dict(arrowstyle='-'),bbox=bbox_props,va='center')\n",
        "total = np.sum(frequency) ## 빈도수 합\n",
        "threshold = 5 ## 상한선 비율\n",
        "sum_pct = 0 ## 퍼센티지\n",
        "\n",
        "for i,l in enumerate(col):\n",
        "    ang1, ang2 = ax.patches[i].theta1, ax.patches[i].theta2 ## 파이의 시작 각도와 끝 각도\n",
        "    center, r = ax.patches[i].center, ax.patches[i].r ## 원의 중심 좌표와 반지름길이\n",
        "    \n",
        "    if i < len(col) - 1:\n",
        "        sum_pct += float(f'{frequency[i]/total*100:.2f}')\n",
        "        text = f'{frequency[i]/total*100:.2f}%'\n",
        "    else: ## 마지막 파이 조각은 퍼센티지의 합이 100이 되도록 비율을 조절\n",
        "        text = f'{100-sum_pct:.2f}%'\n",
        "    \n",
        "    # ## 비율 상한선보다 작은 것들은 Annotation으로 만든다.\n",
        "    # if frequency[i]/total*100 < threshold:\n",
        "    #     ang = (ang1+ang2)/2 ## 중심각\n",
        "    #     x = np.cos(np.deg2rad(ang)) ## Annotation의 끝점에 해당하는 x좌표\n",
        "    #     y = np.sin(np.deg2rad(ang)) ## Annotation의 끝점에 해당하는 y좌표\n",
        "        \n",
        "    #     ## x좌표가 양수이면 즉 y축을 중심으로 오른쪽에 있으면 왼쪽 정렬\n",
        "    #     ## x좌표가 음수이면 즉 y축을 중심으로 왼쪽에 있으면 오른쪽 정렬\n",
        "    #     horizontalalignment = {-1: \"right\", 1: \"right\"}[int(np.sign(x))]\n",
        "    #     connectionstyle = \"angle,angleA=0,angleB={}\".format(ang) ## 시작점과 끝점 연결 스타일\n",
        "    #     config[\"arrowprops\"].update({\"connectionstyle\": connectionstyle}) ## \n",
        "    #     ax.annotate(text, xy=(x, y), xytext=(1.5*x+0.03, 1.2*y+0.03),\n",
        "    #                 horizontalalignment=horizontalalignment, **config)\n",
        "    # else:\n",
        "    x = (r/2)*np.cos(np.pi/180*((ang1+ang2)/2)) + center[0] ## 텍스트 x좌표\n",
        "    y = (r/2)*np.sin(np.pi/180*((ang1+ang2)/2)) + center[1] ## 텍스트 y좌표\n",
        "    ax.text(x,y,text,ha='center',va='center',fontsize=12)\n",
        "    \n",
        "plt.legend(pie[0],col,loc='lower right') ## 범례\n",
        "plt.show()\n"
      ],
      "metadata": {
        "colab": {
          "base_uri": "https://localhost:8080/",
          "height": 575
        },
        "id": "fcTGuTM8qM0Z",
        "outputId": "089af83e-9902-48f5-f78d-7532f383a91a"
      },
      "execution_count": 14,
      "outputs": [
        {
          "output_type": "display_data",
          "data": {
            "text/plain": [
              "<Figure size 720x720 with 1 Axes>"
            ],
            "image/png": "[encoded data removed]"
          },
          "metadata": {}
        }
      ]
    },
    {
      "cell_type": "code",
      "source": [
        "print(\"전체영화 평균 평점은 {:.2f}\".format(data['grade'].mean()))"
      ],
      "metadata": {
        "colab": {
          "base_uri": "https://localhost:8080/"
        },
        "id": "-_q0_C0jnGxU",
        "outputId": "917458be-cda0-4656-83d1-7a22024d7676"
      },
      "execution_count": 15,
      "outputs": [
        {
          "output_type": "stream",
          "name": "stdout",
          "text": [
            "전체영화 평균 평점은 7.28\n"
          ]
        }
      ]
    },
    {
      "cell_type": "code",
      "source": [
        "# 영화별 평균 평점\n",
        "data.groupby(\"movie_id\")[\"grade\"].mean()"
      ],
      "metadata": {
        "colab": {
          "base_uri": "https://localhost:8080/"
        },
        "id": "vDFzIJZonOsm",
        "outputId": "1ff4d836-fd81-4728-c680-44d9da60489c"
      },
      "execution_count": 16,
      "outputs": [
        {
          "output_type": "execute_result",
          "data": {
            "text/plain": [
              "movie_id\n",
              "10526     8.111111\n",
              "10621     9.293478\n",
              "13481     7.142857\n",
              "13512     8.956522\n",
              "13775     8.291667\n",
              "            ...   \n",
              "223815    8.724138\n",
              "223816    8.453608\n",
              "224336    9.345455\n",
              "224919    5.333333\n",
              "225699    9.272727\n",
              "Name: grade, Length: 1562, dtype: float64"
            ]
          },
          "metadata": {},
          "execution_count": 16
        }
      ]
    },
    {
      "cell_type": "code",
      "source": [
        "#영화별  긍정 비율\n",
        "data.groupby(\"movie_id\")[\"label\"].sum() / data.groupby(\"movie_id\")[\"label\"].count()"
      ],
      "metadata": {
        "colab": {
          "base_uri": "https://localhost:8080/"
        },
        "id": "rtsebJBCnmtH",
        "outputId": "8426322b-f907-4ea2-d192-c19ad39e0f12"
      },
      "execution_count": 17,
      "outputs": [
        {
          "output_type": "execute_result",
          "data": {
            "text/plain": [
              "movie_id\n",
              "10526     0.904762\n",
              "10621     0.989130\n",
              "13481     0.714286\n",
              "13512     0.913043\n",
              "13775     0.916667\n",
              "            ...   \n",
              "223815    0.873563\n",
              "223816    0.896907\n",
              "224336    0.927273\n",
              "224919    0.666667\n",
              "225699    0.909091\n",
              "Name: label, Length: 1562, dtype: float64"
            ]
          },
          "metadata": {},
          "execution_count": 17
        }
      ]
    },
    {
      "cell_type": "code",
      "source": [
        "feeling = [0 if rank in range(0,5) else 1 for rank in data['grade']]\n",
        "pos_cnt = len([x for x in feeling if x==1])\n",
        "neg_cnt = len([x for x in feeling if x==0])\n",
        "print((\"긍정비율 : {:.4f}%,\".format(pos_cnt/len(feeling))+\" 긍정개수 : {}개\".format(pos_cnt)))\n",
        "print((\"부정비율 : {:.4f}%,\".format(neg_cnt/len(feeling))+\" 부정개수 : {}개\".format(neg_cnt)))"
      ],
      "metadata": {
        "colab": {
          "base_uri": "https://localhost:8080/"
        },
        "id": "APetd55Eml8h",
        "outputId": "0449c3e1-7bea-4d36-bf88-32edf3a8dbe6"
      },
      "execution_count": 18,
      "outputs": [
        {
          "output_type": "stream",
          "name": "stdout",
          "text": [
            "긍정비율 : 0.7638%, 긍정개수 : 80434개\n",
            "부정비율 : 0.2362%, 부정개수 : 24879개\n"
          ]
        }
      ]
    },
    {
      "cell_type": "code",
      "source": [
        "# 띄어쓰기 고치기\n",
        "# https://haystar.tistory.com/11 참고"
      ],
      "metadata": {
        "id": "-aT8Hor_oI93"
      },
      "execution_count": 19,
      "outputs": []
    },
    {
      "cell_type": "code",
      "source": [
        "!pip install git+https://github.com/haven-jeon/PyKoSpacing.git"
      ],
      "metadata": {
        "colab": {
          "base_uri": "https://localhost:8080/",
          "height": 1000
        },
        "id": "ZvLS3szqUEiA",
        "outputId": "4cbab2b5-941f-465a-8317-c2891db27df3"
      },
      "execution_count": 20,
      "outputs": [
        {
          "output_type": "stream",
          "name": "stdout",
          "text": [
            "Looking in indexes: https://pypi.org/simple, https://us-python.pkg.dev/colab-wheels/public/simple/\n",
            "Collecting git+https://github.com/haven-jeon/PyKoSpacing.git\n",
            "  Cloning https://github.com/haven-jeon/PyKoSpacing.git to /tmp/pip-req-build-mbox6ou0\n",
            "  Running command git clone --filter=blob:none --quiet https://github.com/haven-jeon/PyKoSpacing.git /tmp/pip-req-build-mbox6ou0\n",
            "  Resolved https://github.com/haven-jeon/PyKoSpacing.git to commit 1f8d11c59ac93525432f164e4c237ece4e298691\n",
            "  Preparing metadata (setup.py) ... \u001b[?25l\u001b[?25hdone\n",
            "Collecting tensorflow==2.9.3\n",
            "  Downloading tensorflow-2.9.3-cp38-cp38-manylinux_2_17_x86_64.manylinux2014_x86_64.whl (511.8 MB)\n",
            "\u001b[2K     \u001b[90m━━━━━━━━━━━━━━━━━━━━━━━━━━━━━━━━━━━━━\u001b[0m \u001b[32m511.8/511.8 MB\u001b[0m \u001b[31m745.4 kB/s\u001b[0m eta \u001b[36m0:00:00\u001b[0m\n",
            "\u001b[?25hRequirement already satisfied: h5py==3.1.0 in /usr/local/lib/python3.8/dist-packages (from pykospacing==0.5) (3.1.0)\n",
            "Collecting argparse>=1.4.0\n",
            "  Downloading argparse-1.4.0-py2.py3-none-any.whl (23 kB)\n",
            "Requirement already satisfied: numpy>=1.17.5 in /usr/local/lib/python3.8/dist-packages (from h5py==3.1.0->pykospacing==0.5) (1.21.6)\n",
            "Requirement already satisfied: tensorflow-estimator<2.10.0,>=2.9.0rc0 in /usr/local/lib/python3.8/dist-packages (from tensorflow==2.9.3->pykospacing==0.5) (2.9.0)\n",
            "Requirement already satisfied: flatbuffers<2,>=1.12 in /usr/local/lib/python3.8/dist-packages (from tensorflow==2.9.3->pykospacing==0.5) (1.12)\n",
            "Requirement already satisfied: wrapt>=1.11.0 in /usr/local/lib/python3.8/dist-packages (from tensorflow==2.9.3->pykospacing==0.5) (1.14.1)\n",
            "Requirement already satisfied: termcolor>=1.1.0 in /usr/local/lib/python3.8/dist-packages (from tensorflow==2.9.3->pykospacing==0.5) (2.2.0)\n",
            "Requirement already satisfied: tensorboard<2.10,>=2.9 in /usr/local/lib/python3.8/dist-packages (from tensorflow==2.9.3->pykospacing==0.5) (2.9.1)\n",
            "Requirement already satisfied: keras-preprocessing>=1.1.1 in /usr/local/lib/python3.8/dist-packages (from tensorflow==2.9.3->pykospacing==0.5) (1.1.2)\n",
            "Requirement already satisfied: setuptools in /usr/local/lib/python3.8/dist-packages (from tensorflow==2.9.3->pykospacing==0.5) (57.4.0)\n",
            "Requirement already satisfied: protobuf<3.20,>=3.9.2 in /usr/local/lib/python3.8/dist-packages (from tensorflow==2.9.3->pykospacing==0.5) (3.19.6)\n",
            "Requirement already satisfied: astunparse>=1.6.0 in /usr/local/lib/python3.8/dist-packages (from tensorflow==2.9.3->pykospacing==0.5) (1.6.3)\n",
            "Requirement already satisfied: google-pasta>=0.1.1 in /usr/local/lib/python3.8/dist-packages (from tensorflow==2.9.3->pykospacing==0.5) (0.2.0)\n",
            "Requirement already satisfied: absl-py>=1.0.0 in /usr/local/lib/python3.8/dist-packages (from tensorflow==2.9.3->pykospacing==0.5) (1.3.0)\n",
            "Requirement already satisfied: packaging in /usr/local/lib/python3.8/dist-packages (from tensorflow==2.9.3->pykospacing==0.5) (21.3)\n",
            "Requirement already satisfied: six>=1.12.0 in /usr/local/lib/python3.8/dist-packages (from tensorflow==2.9.3->pykospacing==0.5) (1.15.0)\n",
            "Requirement already satisfied: opt-einsum>=2.3.2 in /usr/local/lib/python3.8/dist-packages (from tensorflow==2.9.3->pykospacing==0.5) (3.3.0)\n",
            "Requirement already satisfied: tensorflow-io-gcs-filesystem>=0.23.1 in /usr/local/lib/python3.8/dist-packages (from tensorflow==2.9.3->pykospacing==0.5) (0.29.0)\n",
            "Requirement already satisfied: libclang>=13.0.0 in /usr/local/lib/python3.8/dist-packages (from tensorflow==2.9.3->pykospacing==0.5) (15.0.6.1)\n",
            "Requirement already satisfied: grpcio<2.0,>=1.24.3 in /usr/local/lib/python3.8/dist-packages (from tensorflow==2.9.3->pykospacing==0.5) (1.51.1)\n",
            "Requirement already satisfied: gast<=0.4.0,>=0.2.1 in /usr/local/lib/python3.8/dist-packages (from tensorflow==2.9.3->pykospacing==0.5) (0.4.0)\n",
            "Requirement already satisfied: typing-extensions>=3.6.6 in /usr/local/lib/python3.8/dist-packages (from tensorflow==2.9.3->pykospacing==0.5) (4.4.0)\n",
            "Requirement already satisfied: keras<2.10.0,>=2.9.0rc0 in /usr/local/lib/python3.8/dist-packages (from tensorflow==2.9.3->pykospacing==0.5) (2.9.0)\n",
            "Requirement already satisfied: wheel<1.0,>=0.23.0 in /usr/local/lib/python3.8/dist-packages (from astunparse>=1.6.0->tensorflow==2.9.3->pykospacing==0.5) (0.38.4)\n",
            "Requirement already satisfied: werkzeug>=1.0.1 in /usr/local/lib/python3.8/dist-packages (from tensorboard<2.10,>=2.9->tensorflow==2.9.3->pykospacing==0.5) (1.0.1)\n",
            "Requirement already satisfied: requests<3,>=2.21.0 in /usr/local/lib/python3.8/dist-packages (from tensorboard<2.10,>=2.9->tensorflow==2.9.3->pykospacing==0.5) (2.25.1)\n",
            "Requirement already satisfied: markdown>=2.6.8 in /usr/local/lib/python3.8/dist-packages (from tensorboard<2.10,>=2.9->tensorflow==2.9.3->pykospacing==0.5) (3.4.1)\n",
            "Requirement already satisfied: google-auth<3,>=1.6.3 in /usr/local/lib/python3.8/dist-packages (from tensorboard<2.10,>=2.9->tensorflow==2.9.3->pykospacing==0.5) (2.16.0)\n",
            "Requirement already satisfied: google-auth-oauthlib<0.5,>=0.4.1 in /usr/local/lib/python3.8/dist-packages (from tensorboard<2.10,>=2.9->tensorflow==2.9.3->pykospacing==0.5) (0.4.6)\n",
            "Requirement already satisfied: tensorboard-plugin-wit>=1.6.0 in /usr/local/lib/python3.8/dist-packages (from tensorboard<2.10,>=2.9->tensorflow==2.9.3->pykospacing==0.5) (1.8.1)\n",
            "Requirement already satisfied: tensorboard-data-server<0.7.0,>=0.6.0 in /usr/local/lib/python3.8/dist-packages (from tensorboard<2.10,>=2.9->tensorflow==2.9.3->pykospacing==0.5) (0.6.1)\n",
            "Requirement already satisfied: pyparsing!=3.0.5,>=2.0.2 in /usr/local/lib/python3.8/dist-packages (from packaging->tensorflow==2.9.3->pykospacing==0.5) (3.0.9)\n",
            "Requirement already satisfied: cachetools<6.0,>=2.0.0 in /usr/local/lib/python3.8/dist-packages (from google-auth<3,>=1.6.3->tensorboard<2.10,>=2.9->tensorflow==2.9.3->pykospacing==0.5) (5.2.1)\n",
            "Requirement already satisfied: rsa<5,>=3.1.4 in /usr/local/lib/python3.8/dist-packages (from google-auth<3,>=1.6.3->tensorboard<2.10,>=2.9->tensorflow==2.9.3->pykospacing==0.5) (4.9)\n",
            "Requirement already satisfied: pyasn1-modules>=0.2.1 in /usr/local/lib/python3.8/dist-packages (from google-auth<3,>=1.6.3->tensorboard<2.10,>=2.9->tensorflow==2.9.3->pykospacing==0.5) (0.2.8)\n",
            "Requirement already satisfied: requests-oauthlib>=0.7.0 in /usr/local/lib/python3.8/dist-packages (from google-auth-oauthlib<0.5,>=0.4.1->tensorboard<2.10,>=2.9->tensorflow==2.9.3->pykospacing==0.5) (1.3.1)\n",
            "Requirement already satisfied: importlib-metadata>=4.4 in /usr/local/lib/python3.8/dist-packages (from markdown>=2.6.8->tensorboard<2.10,>=2.9->tensorflow==2.9.3->pykospacing==0.5) (6.0.0)\n",
            "Requirement already satisfied: certifi>=2017.4.17 in /usr/local/lib/python3.8/dist-packages (from requests<3,>=2.21.0->tensorboard<2.10,>=2.9->tensorflow==2.9.3->pykospacing==0.5) (2022.12.7)\n",
            "Requirement already satisfied: idna<3,>=2.5 in /usr/local/lib/python3.8/dist-packages (from requests<3,>=2.21.0->tensorboard<2.10,>=2.9->tensorflow==2.9.3->pykospacing==0.5) (2.10)\n",
            "Requirement already satisfied: urllib3<1.27,>=1.21.1 in /usr/local/lib/python3.8/dist-packages (from requests<3,>=2.21.0->tensorboard<2.10,>=2.9->tensorflow==2.9.3->pykospacing==0.5) (1.24.3)\n",
            "Requirement already satisfied: chardet<5,>=3.0.2 in /usr/local/lib/python3.8/dist-packages (from requests<3,>=2.21.0->tensorboard<2.10,>=2.9->tensorflow==2.9.3->pykospacing==0.5) (4.0.0)\n",
            "Requirement already satisfied: zipp>=0.5 in /usr/local/lib/python3.8/dist-packages (from importlib-metadata>=4.4->markdown>=2.6.8->tensorboard<2.10,>=2.9->tensorflow==2.9.3->pykospacing==0.5) (3.11.0)\n",
            "Requirement already satisfied: pyasn1<0.5.0,>=0.4.6 in /usr/local/lib/python3.8/dist-packages (from pyasn1-modules>=0.2.1->google-auth<3,>=1.6.3->tensorboard<2.10,>=2.9->tensorflow==2.9.3->pykospacing==0.5) (0.4.8)\n",
            "Requirement already satisfied: oauthlib>=3.0.0 in /usr/local/lib/python3.8/dist-packages (from requests-oauthlib>=0.7.0->google-auth-oauthlib<0.5,>=0.4.1->tensorboard<2.10,>=2.9->tensorflow==2.9.3->pykospacing==0.5) (3.2.2)\n",
            "Building wheels for collected packages: pykospacing\n",
            "  Building wheel for pykospacing (setup.py) ... \u001b[?25l\u001b[?25hdone\n",
            "  Created wheel for pykospacing: filename=pykospacing-0.5-py3-none-any.whl size=2268637 sha256=12c5e3a1f2f8524764a850927b250e627d16339f8c54c3274debd38041049eb2\n",
            "  Stored in directory: /tmp/pip-ephem-wheel-cache-rplkcsr4/wheels/79/a0/33/16f2cd03d21f76a663f5d69a0b96f0351335385349136fbd03\n",
            "Successfully built pykospacing\n",
            "Installing collected packages: argparse, tensorflow, pykospacing\n",
            "  Attempting uninstall: tensorflow\n",
            "    Found existing installation: tensorflow 2.9.2\n",
            "    Uninstalling tensorflow-2.9.2:\n",
            "      Successfully uninstalled tensorflow-2.9.2\n",
            "Successfully installed argparse-1.4.0 pykospacing-0.5 tensorflow-2.9.3\n"
          ]
        },
        {
          "output_type": "display_data",
          "data": {
            "application/vnd.colab-display-data+json": {
              "pip_warning": {
                "packages": [
                  "argparse"
                ]
              }
            }
          },
          "metadata": {}
        }
      ]
    },
    {
      "cell_type": "code",
      "source": [
        "# from pykospacing import Spacing\n",
        "# spacing = Spacing()\n",
        "# data['space_review'] = data['review'].apply(lambda x: spacing(x) )"
      ],
      "metadata": {
        "id": "XcJQKAll3xSs"
      },
      "execution_count": 21,
      "outputs": []
    },
    {
      "cell_type": "markdown",
      "source": [
        "# 네이버 한글 맞춤법 검사기 베이스\n",
        "- 띄어쓰기 + 맞춤법 교정 "
      ],
      "metadata": {
        "id": "0OPoKvHj6Msg"
      }
    },
    {
      "cell_type": "code",
      "source": [
        "!pip install git+https://github.com/ssut/py-hanspell.git"
      ],
      "metadata": {
        "colab": {
          "base_uri": "https://localhost:8080/"
        },
        "id": "K0hAX9HS3x5B",
        "outputId": "a84868f3-20de-48df-c8a4-17354e058178"
      },
      "execution_count": 22,
      "outputs": [
        {
          "output_type": "stream",
          "name": "stdout",
          "text": [
            "Looking in indexes: https://pypi.org/simple, https://us-python.pkg.dev/colab-wheels/public/simple/\n",
            "Collecting git+https://github.com/ssut/py-hanspell.git\n",
            "  Cloning https://github.com/ssut/py-hanspell.git to /tmp/pip-req-build-obuq87io\n",
            "  Running command git clone --filter=blob:none --quiet https://github.com/ssut/py-hanspell.git /tmp/pip-req-build-obuq87io\n",
            "  Resolved https://github.com/ssut/py-hanspell.git to commit 8e993cf46f97f9d665c15633a0fc78ac1b727713\n",
            "  Preparing metadata (setup.py) ... \u001b[?25l\u001b[?25hdone\n",
            "Requirement already satisfied: requests in /usr/local/lib/python3.8/dist-packages (from py-hanspell==1.1) (2.25.1)\n",
            "Requirement already satisfied: chardet<5,>=3.0.2 in /usr/local/lib/python3.8/dist-packages (from requests->py-hanspell==1.1) (4.0.0)\n",
            "Requirement already satisfied: idna<3,>=2.5 in /usr/local/lib/python3.8/dist-packages (from requests->py-hanspell==1.1) (2.10)\n",
            "Requirement already satisfied: certifi>=2017.4.17 in /usr/local/lib/python3.8/dist-packages (from requests->py-hanspell==1.1) (2022.12.7)\n",
            "Requirement already satisfied: urllib3<1.27,>=1.21.1 in /usr/local/lib/python3.8/dist-packages (from requests->py-hanspell==1.1) (1.24.3)\n",
            "Building wheels for collected packages: py-hanspell\n",
            "  Building wheel for py-hanspell (setup.py) ... \u001b[?25l\u001b[?25hdone\n",
            "  Created wheel for py-hanspell: filename=py_hanspell-1.1-py3-none-any.whl size=4870 sha256=c7aa291e219d34e8ccd986fc7bab32550a281397f7f42ecafcb5c8dcfe9d03ca\n",
            "  Stored in directory: /tmp/pip-ephem-wheel-cache-4apn0i2q/wheels/3f/a5/73/e4d2806ae141d274fdddaabf8c0ed79be9357d36bfdc99e4b4\n",
            "Successfully built py-hanspell\n",
            "Installing collected packages: py-hanspell\n",
            "Successfully installed py-hanspell-1.1\n"
          ]
        }
      ]
    },
    {
      "cell_type": "code",
      "source": [
        "from hanspell import spell_checker\n",
        "\n",
        "data[\"fix_review\"] = data[\"review\"].apply(lambda x : spell_checker.check(x))\n",
        "data[\"fix_review\"]"
      ],
      "metadata": {
        "id": "TQ31f9K23xKO"
      },
      "execution_count": null,
      "outputs": []
    },
    {
      "cell_type": "code",
      "source": [
        "data.to_csv(f\"{CFG.PATH}DATA/clean_review.csv\", index=False, encoding=\"utf-8-sig\", header=data.columns)"
      ],
      "metadata": {
        "id": "lLoxOb3dUErH"
      },
      "execution_count": null,
      "outputs": []
    },
    {
      "cell_type": "code",
      "source": [],
      "metadata": {
        "id": "nNAttpg9oF4_"
      },
      "execution_count": null,
      "outputs": []
    }
  ]
}